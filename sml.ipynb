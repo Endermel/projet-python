{
 "cells": [
  {
   "cell_type": "code",
   "execution_count": 1,
   "metadata": {},
   "outputs": [
    {
     "name": "stderr",
     "output_type": "stream",
     "text": [
      "C:\\Users\\gregp\\AppData\\Local\\Temp\\ipykernel_28356\\2162656668.py:1: DeprecationWarning: \n",
      "Pyarrow will become a required dependency of pandas in the next major release of pandas (pandas 3.0),\n",
      "(to allow more performant data types, such as the Arrow string type, and better interoperability with other libraries)\n",
      "but was not found to be installed on your system.\n",
      "If this would cause problems for you,\n",
      "please provide us feedback at https://github.com/pandas-dev/pandas/issues/54466\n",
      "        \n",
      "  import pandas as pd\n"
     ]
    }
   ],
   "source": [
    "import pandas as pd\n",
    "import numpy as np"
   ]
  },
  {
   "cell_type": "code",
   "execution_count": 2,
   "metadata": {},
   "outputs": [],
   "source": [
    "df = open('./liste_francais/liste_francais.txt', \"r\")\n",
    "lines = df.readlines()\n",
    "df.close()"
   ]
  },
  {
   "cell_type": "code",
   "execution_count": 3,
   "metadata": {},
   "outputs": [],
   "source": [
    "\n",
    "# remove /n at the end of each line\n",
    "for index, line in enumerate(lines):\n",
    "      lines[index] = line.strip().lower()"
   ]
  },
  {
   "cell_type": "code",
   "execution_count": 4,
   "metadata": {},
   "outputs": [
    {
     "name": "stdout",
     "output_type": "stream",
     "text": [
      "              word first_letter last_letter\n",
      "0            aaron            a           n\n",
      "1          abaissé            a           é\n",
      "2      abaissement            a           t\n",
      "3         abaisser            a           r\n",
      "4          abandon            a           n\n",
      "...            ...          ...         ...\n",
      "22730        zones            z           s\n",
      "22731     zoologie            z           e\n",
      "22732      zozoter            z           r\n",
      "22733       zurich            z           h\n",
      "22734       zygote            z           e\n",
      "\n",
      "[22735 rows x 3 columns]\n"
     ]
    }
   ],
   "source": [
    "#creating a dataframe(consider you want to convert your data to 2 columns)\n",
    "\n",
    "df_result = pd.DataFrame(columns=('word','first_letter','last_letter'))\n",
    "i = 0  \n",
    "for line in lines:\n",
    "    first=line[0]\n",
    "    last=line[-1]\n",
    "    df_result.loc[i] = [line,first,last]\n",
    "    i =i+1\n",
    "\n",
    "print(df_result)"
   ]
  },
  {
   "cell_type": "code",
   "execution_count": 5,
   "metadata": {},
   "outputs": [
    {
     "name": "stdout",
     "output_type": "stream",
     "text": [
      "first_letter\n",
      "c    2619\n",
      "a    2198\n",
      "p    2180\n",
      "r    1684\n",
      "d    1638\n",
      "s    1587\n",
      "m    1311\n",
      "i    1156\n",
      "b    1043\n",
      "t     987\n",
      "f     970\n",
      "e     906\n",
      "l     653\n",
      "é     651\n",
      "v     623\n",
      "g     613\n",
      "o     446\n",
      "h     415\n",
      "n     415\n",
      "j     249\n",
      "u     120\n",
      "q      94\n",
      "k      51\n",
      "w      37\n",
      "y      28\n",
      "z      27\n",
      "â      14\n",
      "œ       8\n",
      "x       4\n",
      "è       3\n",
      "ê       2\n",
      "î       2\n",
      "ô       1\n",
      "Name: count, dtype: int64\n"
     ]
    }
   ],
   "source": [
    "first_letter_occurrences=df_result[\"first_letter\"].value_counts()\n",
    "last_letter_occurrences=df_result[\"last_letter\"].value_counts()\n",
    "\n",
    "print(first_letter_occurrences)\n",
    "\n",
    "total=len(df_result[\"first_letter\"])"
   ]
  },
  {
   "cell_type": "code",
   "execution_count": 6,
   "metadata": {},
   "outputs": [
    {
     "name": "stdout",
     "output_type": "stream",
     "text": [
      "0\n",
      "c\n",
      "1\n",
      "a\n",
      "2\n",
      "p\n",
      "3\n",
      "r\n",
      "4\n",
      "d\n",
      "5\n",
      "s\n",
      "6\n",
      "m\n",
      "7\n",
      "i\n",
      "8\n",
      "b\n",
      "9\n",
      "t\n",
      "10\n",
      "f\n",
      "11\n",
      "e\n",
      "12\n",
      "l\n",
      "13\n",
      "é\n",
      "14\n",
      "v\n",
      "15\n",
      "g\n",
      "16\n",
      "o\n",
      "17\n",
      "h\n",
      "18\n",
      "n\n",
      "19\n",
      "j\n",
      "20\n",
      "u\n",
      "21\n",
      "q\n",
      "22\n",
      "k\n",
      "23\n",
      "w\n",
      "24\n",
      "y\n",
      "25\n",
      "z\n",
      "26\n",
      "â\n",
      "27\n",
      "œ\n",
      "28\n",
      "x\n",
      "29\n",
      "è\n",
      "30\n",
      "ê\n",
      "31\n",
      "î\n",
      "32\n",
      "ô\n"
     ]
    }
   ],
   "source": [
    "df_stat=pd.DataFrame(columns=(\"letter\",\"first_stat\"))\n",
    "j=0\n",
    "#print(first_letter_occurrences)\n",
    "#print(last_letter_occurrences)\n",
    "for letter_occurrence in first_letter_occurrences:\n",
    "    first_stat=letter_occurrence*100/total\n",
    "    #print(first_stat)\n",
    "    letter=first_letter_occurrences.index[j]\n",
    "    print(j)\n",
    "    print(letter)\n",
    "    df_stat.loc[j]=[letter,first_stat/100]\n",
    "    j+=1"
   ]
  },
  {
   "cell_type": "code",
   "execution_count": 7,
   "metadata": {},
   "outputs": [
    {
     "name": "stdout",
     "output_type": "stream",
     "text": [
      "29.157686386628548\n",
      "0\n",
      "e\n",
      "19.51176599956015\n",
      "1\n",
      "s\n",
      "13.56938640862107\n",
      "2\n",
      "r\n",
      "12.553331867165165\n",
      "3\n",
      "t\n",
      "6.918847591818782\n",
      "4\n",
      "n\n",
      "6.039146690125357\n",
      "5\n",
      "é\n",
      "2.0804926325049484\n",
      "6\n",
      "l\n",
      "1.5130855509126897\n",
      "7\n",
      "x\n",
      "1.411919947217946\n",
      "8\n",
      "u\n",
      "1.341543875082472\n",
      "9\n",
      "a\n",
      "1.1392126676929843\n",
      "10\n",
      "i\n",
      "1.0116560369474379\n",
      "11\n",
      "d\n",
      "0.7125577303716736\n",
      "12\n",
      "f\n",
      "0.6377831537277325\n",
      "13\n",
      "o\n",
      "0.4134594237959094\n",
      "14\n",
      "c\n",
      "0.3606773696943039\n",
      "15\n",
      "y\n",
      "0.3518803606773697\n",
      "16\n",
      "m\n",
      "0.2507147569826259\n",
      "17\n",
      "g\n",
      "0.22432372993182317\n",
      "18\n",
      "z\n",
      "0.21992522542335605\n",
      "19\n",
      "h\n",
      "0.18033868484715196\n",
      "20\n",
      "k\n",
      "0.145150648779415\n",
      "21\n",
      "p\n",
      "0.08797009016934243\n",
      "22\n",
      "v\n",
      "0.06597756762700682\n",
      "23\n",
      "b\n",
      "0.021992522542335607\n",
      "24\n",
      "w\n",
      "0.021992522542335607\n",
      "25\n",
      "à\n",
      "0.013195513525401364\n",
      "26\n",
      "ô\n",
      "0.008797009016934242\n",
      "27\n",
      "ë\n",
      "0.008797009016934242\n",
      "28\n",
      "q\n",
      "0.008797009016934242\n",
      "29\n",
      "-\n",
      "0.004398504508467121\n",
      "30\n",
      "û\n",
      "0.004398504508467121\n",
      "31\n",
      "ï\n",
      "0.004398504508467121\n",
      "32\n",
      "ù\n",
      "0.004398504508467121\n",
      "33\n",
      ".\n"
     ]
    }
   ],
   "source": [
    "df_last_stat=pd.DataFrame(columns=(\"letter\",\"last_stat\"))\n",
    "j=0\n",
    "for letter_occurrence in last_letter_occurrences:\n",
    "     last_stat=letter_occurrence*100/total\n",
    "     print(last_stat)\n",
    "     letter=last_letter_occurrences.index[j]\n",
    "     print(j)\n",
    "     print(letter)\n",
    "     df_last_stat.loc[j]=[letter,last_stat/100]\n",
    "     j+=1\n"
   ]
  },
  {
   "cell_type": "code",
   "execution_count": 8,
   "metadata": {},
   "outputs": [
    {
     "name": "stdout",
     "output_type": "stream",
     "text": [
      "   letter  first_stat  last_stat\n",
      "0       -    0.000000   0.000088\n",
      "1       .    0.000000   0.000044\n",
      "2       a    0.096679   0.013415\n",
      "3       b    0.045876   0.000660\n",
      "4       c    0.115197   0.004135\n",
      "5       d    0.072048   0.010117\n",
      "6       e    0.039850   0.291577\n",
      "7       f    0.042665   0.007126\n",
      "8       g    0.026963   0.002507\n",
      "9       h    0.018254   0.002199\n",
      "10      i    0.050847   0.011392\n",
      "11      j    0.010952   0.000000\n",
      "12      k    0.002243   0.001803\n",
      "13      l    0.028722   0.020805\n",
      "14      m    0.057664   0.003519\n",
      "15      n    0.018254   0.069188\n",
      "16      o    0.019617   0.006378\n",
      "17      p    0.095887   0.001452\n",
      "18      q    0.004135   0.000088\n",
      "19      r    0.074071   0.135694\n",
      "20      s    0.069804   0.195118\n",
      "21      t    0.043413   0.125533\n",
      "22      u    0.005278   0.014119\n",
      "23      v    0.027403   0.000880\n",
      "24      w    0.001627   0.000220\n",
      "25      x    0.000176   0.015131\n",
      "26      y    0.001232   0.003607\n",
      "27      z    0.001188   0.002243\n",
      "28      à    0.000000   0.000220\n",
      "29      â    0.000616   0.000000\n",
      "30      è    0.000132   0.000000\n",
      "31      é    0.028634   0.060391\n",
      "32      ê    0.000088   0.000000\n",
      "33      ë    0.000000   0.000088\n",
      "34      î    0.000088   0.000000\n",
      "35      ï    0.000000   0.000044\n",
      "36      ô    0.000044   0.000132\n",
      "37      ù    0.000000   0.000044\n",
      "38      û    0.000000   0.000044\n",
      "39      œ    0.000352   0.000000\n"
     ]
    }
   ],
   "source": [
    "final_percentages=df_stat.merge(df_last_stat, on=\"letter\", how=\"outer\").fillna(0)\n",
    "\n",
    "print(final_percentages)"
   ]
  },
  {
   "cell_type": "code",
   "execution_count": 18,
   "metadata": {},
   "outputs": [
    {
     "name": "stdout",
     "output_type": "stream",
     "text": [
      "l\n"
     ]
    }
   ],
   "source": [
    "#first letter\n",
    "def first_letter_creation():\n",
    "    letter_list=final_percentages.letter.to_list()\n",
    "    first_letter_stat_list=final_percentages.first_stat.to_list()\n",
    "    first_letter=np.random.choice(\n",
    "    letter_list,\n",
    "    p=first_letter_stat_list\n",
    "    )\n",
    "    return first_letter\n",
    "\n",
    "print(first_letter_creation())"
   ]
  },
  {
   "cell_type": "code",
   "execution_count": 10,
   "metadata": {},
   "outputs": [],
   "source": [
    "from word_cutter import list_treater"
   ]
  },
  {
   "cell_type": "code",
   "execution_count": 17,
   "metadata": {},
   "outputs": [
    {
     "name": "stdout",
     "output_type": "stream",
     "text": [
      "False\n"
     ]
    }
   ],
   "source": [
    "# last letter check\n",
    "def last_letter_checking(letter_to_check):\n",
    "    last_letter_chance=final_percentages.loc[final_percentages['letter'] == letter_to_check, \"last_stat\"].iloc[0]\n",
    "    not_last_letter_chance=1-last_letter_chance\n",
    "    last_letter_check=np.random.choice([True,False],p=[last_letter_chance,not_last_letter_chance])    \n",
    "    last_letter_check=np.random.choice([True,False],p=[last_letter_chance,not_last_letter_chance])\n",
    "    return last_letter_check\n",
    "\n",
    "print(last_letter_checking(\"a\"))"
   ]
  },
  {
   "cell_type": "code",
   "execution_count": 12,
   "metadata": {},
   "outputs": [
    {
     "name": "stdout",
     "output_type": "stream",
     "text": [
      "      preceding_group letter   percent\n",
      "0                 aro      n  0.270833\n",
      "1                 aro      u  0.145833\n",
      "2                 aro      l  0.125000\n",
      "3                 aro      m  0.125000\n",
      "4                 aro      c  0.104167\n",
      "...               ...    ...       ...\n",
      "20530             zoz      o  1.000000\n",
      "20531             zur      i  1.000000\n",
      "20532              zu      r  1.000000\n",
      "20533             zyg      o  1.000000\n",
      "20534              zy      g  1.000000\n",
      "\n",
      "[20535 rows x 3 columns]\n",
      "['aro' 'aar' 'aa' ... 'zu' 'zyg' 'zy']\n"
     ]
    }
   ],
   "source": [
    "group_stats=list_treater(lines,cut_len=3)"
   ]
  },
  {
   "cell_type": "code",
   "execution_count": 25,
   "metadata": {},
   "outputs": [],
   "source": [
    "middle_letter_test_list=[\"aze\",\"mel\",\"ose\"]\n",
    "def letter_after_group(group):\n",
    "    group_df=group_stats.loc[group_stats['preceding_group']==group]\n",
    "    next_letters_list=group_df.letter.to_list()\n",
    "    next_letters_stats=group_df.percent.to_list()\n",
    "    next_letter=np.random.choice(next_letters_list,p=next_letters_stats)\n",
    "    #print(next_letter)\n",
    "    return next_letter"
   ]
  },
  {
   "cell_type": "code",
   "execution_count": 29,
   "metadata": {},
   "outputs": [
    {
     "name": "stdout",
     "output_type": "stream",
     "text": [
      "expugnatholle\n"
     ]
    }
   ],
   "source": [
    "def word_creation():\n",
    "    my_first_letter=first_letter_creation()\n",
    "    my_word=my_first_letter\n",
    "    last=False\n",
    "    while last==False:\n",
    "        new_letter=letter_after_group(my_word[-3:])\n",
    "        my_word=my_word+new_letter\n",
    "        last=last_letter_checking(new_letter)\n",
    "    return my_word\n",
    "\n"
   ]
  },
  {
   "cell_type": "code",
   "execution_count": 30,
   "metadata": {},
   "outputs": [
    {
     "name": "stdout",
     "output_type": "stream",
     "text": [
      "motis\n"
     ]
    }
   ],
   "source": [
    "print(word_creation())"
   ]
  }
 ],
 "metadata": {
  "kernelspec": {
   "display_name": "env",
   "language": "python",
   "name": "python3"
  },
  "language_info": {
   "codemirror_mode": {
    "name": "ipython",
    "version": 3
   },
   "file_extension": ".py",
   "mimetype": "text/x-python",
   "name": "python",
   "nbconvert_exporter": "python",
   "pygments_lexer": "ipython3",
   "version": "3.10.7"
  }
 },
 "nbformat": 4,
 "nbformat_minor": 2
}
